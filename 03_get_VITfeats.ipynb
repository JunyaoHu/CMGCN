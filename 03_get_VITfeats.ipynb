{
 "cells": [
  {
   "cell_type": "markdown",
   "metadata": {},
   "source": [
    "# Step5.3: get_VITfeats"
   ]
  },
  {
   "cell_type": "markdown",
   "metadata": {},
   "source": [
    "运行它获得vit feature，为train做准备"
   ]
  },
  {
   "cell_type": "code",
   "execution_count": 1,
   "metadata": {},
   "outputs": [],
   "source": [
    "import json\n",
    "from PIL import Image\n",
    "import torch\n",
    "from torchvision import transforms\n",
    "from pytorch_pretrained_vit import ViT"
   ]
  },
  {
   "cell_type": "code",
   "execution_count": 2,
   "metadata": {},
   "outputs": [
    {
     "name": "stdout",
     "output_type": "stream",
     "text": [
      "24635\n"
     ]
    }
   ],
   "source": [
    "import os\n",
    "path = \"./data/dataset_images_boxes\"\n",
    "\n",
    "if os.path.exists(path+\"/.ipynb_checkpoints\"):\n",
    "    os.rmdir(path+\"/.ipynb_checkpoints\")\n",
    "    print(\"rmdir .checkpoints\")\n",
    "\n",
    "imgs = os.listdir(path)\n",
    "# imgs = imgs[:100]\n",
    "print(len(imgs))"
   ]
  },
  {
   "cell_type": "code",
   "execution_count": 3,
   "metadata": {},
   "outputs": [
    {
     "ename": "RuntimeError",
     "evalue": "Error(s) in loading state_dict for ViT:\n\tsize mismatch for fc.weight: copying a param with shape torch.Size([21843, 768]) from checkpoint, the shape in current model is torch.Size([768, 768]).\n\tsize mismatch for fc.bias: copying a param with shape torch.Size([21843]) from checkpoint, the shape in current model is torch.Size([768]).",
     "output_type": "error",
     "traceback": [
      "\u001b[0;31m---------------------------------------------------------------------------\u001b[0m",
      "\u001b[0;31mRuntimeError\u001b[0m                              Traceback (most recent call last)",
      "\u001b[0;32m/tmp/ipykernel_169850/775094233.py\u001b[0m in \u001b[0;36m<module>\u001b[0;34m\u001b[0m\n\u001b[1;32m      1\u001b[0m \u001b[0;31m#model = ViT('B_32_imagenet1k', pretrained=True)\u001b[0m\u001b[0;34m\u001b[0m\u001b[0;34m\u001b[0m\u001b[0;34m\u001b[0m\u001b[0m\n\u001b[0;32m----> 2\u001b[0;31m \u001b[0mmodel\u001b[0m \u001b[0;34m=\u001b[0m \u001b[0mViT\u001b[0m\u001b[0;34m(\u001b[0m\u001b[0;34m'B_32'\u001b[0m\u001b[0;34m,\u001b[0m \u001b[0mpretrained\u001b[0m\u001b[0;34m=\u001b[0m\u001b[0;32mTrue\u001b[0m\u001b[0;34m)\u001b[0m\u001b[0;34m\u001b[0m\u001b[0;34m\u001b[0m\u001b[0m\n\u001b[0m\u001b[1;32m      3\u001b[0m \u001b[0mprint\u001b[0m\u001b[0;34m(\u001b[0m\u001b[0mmodel\u001b[0m\u001b[0;34m.\u001b[0m\u001b[0mimage_size\u001b[0m\u001b[0;34m)\u001b[0m\u001b[0;34m\u001b[0m\u001b[0;34m\u001b[0m\u001b[0m\n\u001b[1;32m      4\u001b[0m \u001b[0mtfms\u001b[0m \u001b[0;34m=\u001b[0m \u001b[0mtransforms\u001b[0m\u001b[0;34m.\u001b[0m\u001b[0mCompose\u001b[0m\u001b[0;34m(\u001b[0m\u001b[0;34m[\u001b[0m\u001b[0mtransforms\u001b[0m\u001b[0;34m.\u001b[0m\u001b[0mResize\u001b[0m\u001b[0;34m(\u001b[0m\u001b[0mmodel\u001b[0m\u001b[0;34m.\u001b[0m\u001b[0mimage_size\u001b[0m\u001b[0;34m)\u001b[0m\u001b[0;34m,\u001b[0m \u001b[0mtransforms\u001b[0m\u001b[0;34m.\u001b[0m\u001b[0mToTensor\u001b[0m\u001b[0;34m(\u001b[0m\u001b[0;34m)\u001b[0m\u001b[0;34m,\u001b[0m \u001b[0mtransforms\u001b[0m\u001b[0;34m.\u001b[0m\u001b[0mNormalize\u001b[0m\u001b[0;34m(\u001b[0m\u001b[0;34m[\u001b[0m\u001b[0;36m0.5\u001b[0m\u001b[0;34m,\u001b[0m \u001b[0;36m0.5\u001b[0m\u001b[0;34m,\u001b[0m \u001b[0;36m0.5\u001b[0m\u001b[0;34m]\u001b[0m\u001b[0;34m,\u001b[0m \u001b[0;34m[\u001b[0m\u001b[0;36m0.5\u001b[0m\u001b[0;34m,\u001b[0m \u001b[0;36m0.5\u001b[0m\u001b[0;34m,\u001b[0m \u001b[0;36m0.5\u001b[0m\u001b[0;34m]\u001b[0m\u001b[0;34m)\u001b[0m\u001b[0;34m,\u001b[0m\u001b[0;34m]\u001b[0m\u001b[0;34m)\u001b[0m\u001b[0;34m\u001b[0m\u001b[0;34m\u001b[0m\u001b[0m\n\u001b[1;32m      5\u001b[0m \u001b[0;31m#tfms = transforms.Compose([transforms.Resize(model.image_size), transforms.ToTensor(), transforms.Normalize(0.5, 0.5)])\u001b[0m\u001b[0;34m\u001b[0m\u001b[0;34m\u001b[0m\u001b[0;34m\u001b[0m\u001b[0m\n",
      "\u001b[0;32m~/hujunyao/ACL22-sarcasm-code/PyTorch-Pretrained-ViT/pytorch_pretrained_vit/model.py\u001b[0m in \u001b[0;36m__init__\u001b[0;34m(self, name, pretrained, patches, dim, ff_dim, num_heads, num_layers, attention_dropout_rate, dropout_rate, representation_size, load_repr_layer, classifier, positional_embedding, in_channels, image_size, num_classes)\u001b[0m\n\u001b[1;32m    129\u001b[0m             \u001b[0mpretrained_num_classes\u001b[0m \u001b[0;34m=\u001b[0m \u001b[0mPRETRAINED_MODELS\u001b[0m\u001b[0;34m[\u001b[0m\u001b[0mname\u001b[0m\u001b[0;34m]\u001b[0m\u001b[0;34m[\u001b[0m\u001b[0;34m'num_classes'\u001b[0m\u001b[0;34m]\u001b[0m\u001b[0;34m\u001b[0m\u001b[0;34m\u001b[0m\u001b[0m\n\u001b[1;32m    130\u001b[0m             \u001b[0mpretrained_image_size\u001b[0m \u001b[0;34m=\u001b[0m \u001b[0mPRETRAINED_MODELS\u001b[0m\u001b[0;34m[\u001b[0m\u001b[0mname\u001b[0m\u001b[0;34m]\u001b[0m\u001b[0;34m[\u001b[0m\u001b[0;34m'image_size'\u001b[0m\u001b[0;34m]\u001b[0m\u001b[0;34m\u001b[0m\u001b[0;34m\u001b[0m\u001b[0m\n\u001b[0;32m--> 131\u001b[0;31m             load_pretrained_weights(\n\u001b[0m\u001b[1;32m    132\u001b[0m                 \u001b[0mself\u001b[0m\u001b[0;34m,\u001b[0m \u001b[0mname\u001b[0m\u001b[0;34m,\u001b[0m\u001b[0;34m\u001b[0m\u001b[0;34m\u001b[0m\u001b[0m\n\u001b[1;32m    133\u001b[0m                 \u001b[0mload_first_conv\u001b[0m\u001b[0;34m=\u001b[0m\u001b[0;34m(\u001b[0m\u001b[0min_channels\u001b[0m \u001b[0;34m==\u001b[0m \u001b[0mpretrained_num_channels\u001b[0m\u001b[0;34m)\u001b[0m\u001b[0;34m,\u001b[0m\u001b[0;34m\u001b[0m\u001b[0;34m\u001b[0m\u001b[0m\n",
      "\u001b[0;32m~/hujunyao/ACL22-sarcasm-code/PyTorch-Pretrained-ViT/pytorch_pretrained_vit/utils.py\u001b[0m in \u001b[0;36mload_pretrained_weights\u001b[0;34m(model, model_name, weights_path, load_first_conv, load_fc, load_repr_layer, resize_positional_embedding, verbose, strict)\u001b[0m\n\u001b[1;32m     67\u001b[0m \u001b[0;34m\u001b[0m\u001b[0m\n\u001b[1;32m     68\u001b[0m     \u001b[0;31m# Load state dict\u001b[0m\u001b[0;34m\u001b[0m\u001b[0;34m\u001b[0m\u001b[0;34m\u001b[0m\u001b[0m\n\u001b[0;32m---> 69\u001b[0;31m     \u001b[0mret\u001b[0m \u001b[0;34m=\u001b[0m \u001b[0mmodel\u001b[0m\u001b[0;34m.\u001b[0m\u001b[0mload_state_dict\u001b[0m\u001b[0;34m(\u001b[0m\u001b[0mstate_dict\u001b[0m\u001b[0;34m,\u001b[0m \u001b[0mstrict\u001b[0m\u001b[0;34m=\u001b[0m\u001b[0;32mFalse\u001b[0m\u001b[0;34m)\u001b[0m\u001b[0;34m\u001b[0m\u001b[0;34m\u001b[0m\u001b[0m\n\u001b[0m\u001b[1;32m     70\u001b[0m     \u001b[0;32mif\u001b[0m \u001b[0mstrict\u001b[0m\u001b[0;34m:\u001b[0m\u001b[0;34m\u001b[0m\u001b[0;34m\u001b[0m\u001b[0m\n\u001b[1;32m     71\u001b[0m         \u001b[0;32massert\u001b[0m \u001b[0mset\u001b[0m\u001b[0;34m(\u001b[0m\u001b[0mret\u001b[0m\u001b[0;34m.\u001b[0m\u001b[0mmissing_keys\u001b[0m\u001b[0;34m)\u001b[0m \u001b[0;34m==\u001b[0m \u001b[0mset\u001b[0m\u001b[0;34m(\u001b[0m\u001b[0mexpected_missing_keys\u001b[0m\u001b[0;34m)\u001b[0m\u001b[0;34m,\u001b[0m\u001b[0;31m \u001b[0m\u001b[0;31m\\\u001b[0m\u001b[0;34m\u001b[0m\u001b[0;34m\u001b[0m\u001b[0m\n",
      "\u001b[0;32m~/miniconda3/lib/python3.8/site-packages/torch/nn/modules/module.py\u001b[0m in \u001b[0;36mload_state_dict\u001b[0;34m(self, state_dict, strict)\u001b[0m\n\u001b[1;32m   1042\u001b[0m \u001b[0;34m\u001b[0m\u001b[0m\n\u001b[1;32m   1043\u001b[0m         \u001b[0;32mif\u001b[0m \u001b[0mlen\u001b[0m\u001b[0;34m(\u001b[0m\u001b[0merror_msgs\u001b[0m\u001b[0;34m)\u001b[0m \u001b[0;34m>\u001b[0m \u001b[0;36m0\u001b[0m\u001b[0;34m:\u001b[0m\u001b[0;34m\u001b[0m\u001b[0;34m\u001b[0m\u001b[0m\n\u001b[0;32m-> 1044\u001b[0;31m             raise RuntimeError('Error(s) in loading state_dict for {}:\\n\\t{}'.format(\n\u001b[0m\u001b[1;32m   1045\u001b[0m                                self.__class__.__name__, \"\\n\\t\".join(error_msgs)))\n\u001b[1;32m   1046\u001b[0m         \u001b[0;32mreturn\u001b[0m \u001b[0m_IncompatibleKeys\u001b[0m\u001b[0;34m(\u001b[0m\u001b[0mmissing_keys\u001b[0m\u001b[0;34m,\u001b[0m \u001b[0munexpected_keys\u001b[0m\u001b[0;34m)\u001b[0m\u001b[0;34m\u001b[0m\u001b[0;34m\u001b[0m\u001b[0m\n",
      "\u001b[0;31mRuntimeError\u001b[0m: Error(s) in loading state_dict for ViT:\n\tsize mismatch for fc.weight: copying a param with shape torch.Size([21843, 768]) from checkpoint, the shape in current model is torch.Size([768, 768]).\n\tsize mismatch for fc.bias: copying a param with shape torch.Size([21843]) from checkpoint, the shape in current model is torch.Size([768])."
     ]
    }
   ],
   "source": [
    "#model = ViT('B_32_imagenet1k', pretrained=True)\n",
    "model = ViT('B_32', pretrained=True)\n",
    "print(model.image_size)\n",
    "tfms = transforms.Compose([transforms.Resize(model.image_size), transforms.ToTensor(), transforms.Normalize([0.5, 0.5, 0.5], [0.5, 0.5, 0.5]),])\n",
    "#tfms = transforms.Compose([transforms.Resize(model.image_size), transforms.ToTensor(), transforms.Normalize(0.5, 0.5)])"
   ]
  },
  {
   "cell_type": "code",
   "execution_count": null,
   "metadata": {},
   "outputs": [],
   "source": [
    "import pickle\n",
    "from tqdm import tqdm\n",
    "model.eval()\n",
    "device = torch.device(\"cuda:0\" if torch.cuda.is_available() else \"cpu\")\n",
    "model = model.to(device)"
   ]
  },
  {
   "cell_type": "code",
   "execution_count": null,
   "metadata": {},
   "outputs": [],
   "source": [
    "def generate_features_block(start, end, filename):\n",
    "    print(f\"now : [{start:8}, {end:8}, {filename:8}]\")\n",
    "    with torch.no_grad():\n",
    "        dic = {}\n",
    "        for idx in tqdm(range(start,end)):\n",
    "            name = imgs[idx]\n",
    "            dic[name] = dict()\n",
    "            path_ = path + \"/\" + name\n",
    "            if os.path.exists(f\"{path_}/.ipynb_checkpoints\"):\n",
    "                os.system(f\"rm -r {path_}/.ipynb_checkpoints\")\n",
    "            boxes = os.listdir(path_)\n",
    "            for box in boxes:\n",
    "                img = Image.open(f\"{path_}/{box}\")\n",
    "                img = tfms(img).unsqueeze(0)\n",
    "                img = img.to(device)\n",
    "\n",
    "                # outputs = model(img).squeeze(0)\n",
    "                outputs = model(img).squeeze(0)\n",
    "                print(outputs.shape)\n",
    "                dic[name][box[:-4]] = outputs.cpu()\n",
    "        with open(f\"/root/autodl-tmp/vit_features.B32.finetuned.{filename:02}.pkl\",'wb') as fout:\n",
    "            pickle.dump(dic,fout)"
   ]
  },
  {
   "cell_type": "code",
   "execution_count": null,
   "metadata": {},
   "outputs": [],
   "source": [
    "def generate_features(num, block_size=1000):\n",
    "    cnt = 0\n",
    "    i = 0\n",
    "    while i < num:\n",
    "        if i+block_size < num:\n",
    "            generate_features_block(i, i+block_size, cnt)\n",
    "        else:\n",
    "            generate_features_block(i, num, cnt)\n",
    "        i += block_size\n",
    "        cnt += 1"
   ]
  },
  {
   "cell_type": "code",
   "execution_count": null,
   "metadata": {},
   "outputs": [],
   "source": [
    "generate_features(len(imgs), 2400)"
   ]
  },
  {
   "cell_type": "markdown",
   "metadata": {},
   "source": [
    "`dic`的格式如下：\n",
    "\n",
    "\n",
    "```\n",
    "{\n",
    "    '682716753374351360': {\n",
    "        'green wall': tensor([-0.2158, -0.5861, -0.4583,  ..., -0.4584, -0.0507, -0.4340]), \n",
    "        'thumb': tensor([-0.0943, -0.5097, -0.2850,  ..., -0.2975,  0.4255,  0.7431]), \n",
    "        'yellow circle': tensor([-0.3630,  0.0496, -0.5468,  ..., -0.5510, -0.0705, -0.4504]), \n",
    "        'blue lights': tensor([-0.4361, -0.5627, -0.6589,  ..., -0.6676, -0.3880, -0.6415]), \n",
    "        'clear glass': tensor([-0.3609, -0.6426, -0.6136,  ..., -0.6126, -0.5325, -0.5997]), \n",
    "        'hand': tensor([-0.4882, -0.5795, -0.6744,  ..., -0.6797, -0.4926, -0.5218]), \n",
    "        'blue dot': tensor([-0.0286, -0.0159, -0.2335,  ..., -0.2459, -0.5378,  0.2008]), \n",
    "        'man': tensor([-0.4034, -0.9045, -0.6479,  ..., -0.6523, -0.0525, -0.8093]), \n",
    "        'white words': tensor([-0.4899,  0.1618, -0.7007,  ..., -0.7047, -0.7450, -0.6402])\n",
    "    }, \n",
    "    '682721949072625664': {\n",
    "        'logo': tensor([ 0.1612,  0.3313, -0.0857,  ..., -0.1012,  0.2761,  0.1852]), \n",
    "        'white logo': tensor([ 0.0115, -0.3251, -0.1830,  ..., -0.1912,  0.7098, -0.2490]), \n",
    "        'blue sky': tensor([-0.1040,  0.2694, -0.2814,  ..., -0.2938, -0.1567,  0.1455]), \n",
    "        'white dog': tensor([-0.1709,  0.2743, -0.3800,  ..., -0.3780,  0.4276, -0.6060]), \n",
    "        'picture': tensor([ 0.1025,  0.3527, -0.0880,  ..., -0.0990,  0.7861, -0.1227]), \n",
    "        'blue wall': tensor([ 0.0800,  0.5311, -0.1281,  ..., -0.1368,  0.2102, -0.1506]), \n",
    "        'black letter': tensor([-0.2343, -0.0206, -0.4577,  ..., -0.4666,  0.2765,  0.2039]), \n",
    "        'green wall': tensor([-0.3552, -0.3162, -0.5775,  ..., -0.5958, -0.9602, -0.4342])\n",
    "    }, \n",
    "    '682722242111774720': {\n",
    "    ...\n",
    "    },\n",
    "}\n",
    "```"
   ]
  },
  {
   "cell_type": "code",
   "execution_count": null,
   "metadata": {},
   "outputs": [],
   "source": []
  },
  {
   "cell_type": "code",
   "execution_count": null,
   "metadata": {},
   "outputs": [],
   "source": []
  }
 ],
 "metadata": {
  "kernelspec": {
   "display_name": "Python 3 (ipykernel)",
   "language": "python",
   "name": "python3"
  },
  "language_info": {
   "codemirror_mode": {
    "name": "ipython",
    "version": 3
   },
   "file_extension": ".py",
   "mimetype": "text/x-python",
   "name": "python",
   "nbconvert_exporter": "python",
   "pygments_lexer": "ipython3",
   "version": "3.8.10"
  }
 },
 "nbformat": 4,
 "nbformat_minor": 4
}
